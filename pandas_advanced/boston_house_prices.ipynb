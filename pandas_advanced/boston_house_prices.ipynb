import pandas as pd
from sklearn.datasets import load_boston

bostondata = load_boston()
bostondata

df = pd.DataFrame(bostondata['data'], columns = bostondata['feature_names'])
df['WHATEVEr'] = boston['target']

from sklearn.model_selection import train_test_split

x = df.loc[:, 'CRIM':'LSTAT']
y = df.loc[:,'WHATEVEr']
