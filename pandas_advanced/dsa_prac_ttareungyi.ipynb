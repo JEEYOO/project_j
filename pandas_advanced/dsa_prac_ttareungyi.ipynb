import pandas 
import lightgbm as lgbm                 #new 

from google.colab import drive
drive.mount('/content/drive')

train = pandas.read_csv('drive/MyDrive/Colab_Notebooks/따릉이/dataset따/train.csv') 

test = pandas.read_csv('drive/MyDrive/Colab_Notebooks/따릉이/dataset따/test.csv')


submission = pandas.read_csv('drive/MyDrive/Colab_Notebooks/따릉이/dataset따/submission.csv')
submission

train.shape    #(1459, 11)
test.shape     #(715, 10)

train.isnull().sum() #null값을 반환. 결측치 확인

import seaborn
import matplotlib.pyplot as pyplot

seaborn.histplot(x = train['count'])

seaborn.barplot(x = 'hour', y = 'count', data = train) #막대그래프

pyplot.figure(figsize = (12,12)) #히트맵그래프
seaborn.heatmap(train.corr()) #다중공선성(변수들과의 상관관계)
