import pandas as pd

# 데이터 로드
train = pd.read_csv('train.csv')
#val = pd.read_csv('./data/price_data_val.csv')
test = pd.read_csv('test.csv')

train.head()

y_variables = ['price'] #타겟으로 잡아야함, price하고 id 는 아예 안넣음 

set(train['waterfront'])
#{0, 1}

category_variables = ['waterfront']

from sklearn import linear_model
import numpy
from sklearn.model_selection import train_test_split #train_test_split 도 라이브러리에서 가져오는 것
from sklearn.metrics import mean_absolute_error

train.corr(method='pearson', min_periods=1).loc['price',:] # sqft_living 가 높음. Price 로 한 이유는 문제에서 물었기에
#왜 : 로 date 는 안나오는가 


id              -0.018804
price            1.000000
bedrooms         0.308996
bathrooms        0.528705
sqft_living      0.700241
sqft_lot         0.085668
floors           0.255690
waterfront       0.271197
view             0.401804
condition        0.034325
grade            0.670901
sqft_above       0.603719
sqft_basement    0.323747
yr_built         0.057652
yr_renovated     0.116310
zipcode         -0.056180
lat              0.307434
long             0.023311
sqft_living15    0.591559
sqft_lot15       0.080190
Name: price, dtype: float64

x_axis1 = numpy.array(train1['sqft_living'])
x_axis1 # 여기서 출력으로 1차원인 것을 확인하고. array([2290, 4260, 2000, ..., 1490, 1350, 1450])

x_axis1 = numpy.expand_dims(x_axis1, axis = 1) #Linear Regression 을 쓸 것이기 때문에 dimension 을 하나 늘리는 것. 그냥 1이라고 해도 괜찮
x_axis1 # 2차원 완성   expand_dims
#print(x_axis1.shape) 
#print(x_axis1) 

y_axis = numpy.array(train1['price']) #y가 Aim(y_variable에 만들어두었음)
#print(y_axis)

x_train, x_test, y_train, y_test = train_test_split(x_axis1, y_axis, test_size = 0.2, shuffle=True, random_state=1)
#print(x_train.shape)

model1 = linear_model.LinearRegression()
model1.fit(x_train, y_train)

train_mae1 = mean_absolute_error(y_train, model1.predict(x_train)) # train 데이터로 만듬
#print(model1.predict(x_train))

test_mae1 = mean_absolute_error(y_test, model1.predict(x_test)) #test 데이터로 만듬     

test1 = test.copy()
test1['submit_id'] = test1.apply(lambda x_axis1 : str(x_axis1.id) + str(x_axis1.date),axis=1)  
# 왜 date?
test1

print(model1.predict(x_axis1).shape)
#(17291,)   train 이니까. 양이 0.8이니까

test1['id'].shape #정상

x_test1 = numpy.array(test1['sqft_living'])
x_test1 = numpy.expand_dims(x_test1,1)    #왜 x_axis2를 갖다쓰면안되지

y_test_predict1 = model1.predict(x_test1)

print(y_test_predict1.shape)

test1

sample_submission1 = pd.read_csv('drive/MyDrive/Colab_Notebooks/dataset1/sample_submission.csv')

sample_submission1

