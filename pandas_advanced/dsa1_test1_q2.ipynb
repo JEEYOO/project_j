#2.  (전처리 하지 않은 가능한 많은 다중 숫자 변수를 사용) 이래서 numeric_vars 가 필요하였던 것

numeric_variables = ['bedrooms', 'bathrooms', 'sqft_living',
       'sqft_lot', 'floors', 'view',
       'sqft_above', 'sqft_basement', 'yr_built', 'lat', 'long', 'sqft_living15', 'sqft_lot15']

train2 = train.copy()
test2 = test.copy()

rest_axises = numpy.array(train2[numeric_variables]) 
''' 이미 2차원 - var이 하나가 아니니까 2차원으로 되어있는 것. <> 하나면 하나밖에 없으니 1차원
array([[ 3.00000e+00,  2.50000e+00,  2.29000e+03, ..., -1.22107e+02,
         2.70000e+03,  7.50000e+03],
       [ 5.00000e+00,  3.25000e+00,  4.26000e+03, ..., -1.21992e+02,
         4.02000e+03,  7.52800e+03],
       [ 3.00000e+00,  1.75000e+00,  2.00000e+03, ..., -1.22373e+02,
         1.83000e+03,  9.00000e+03],
       ...,
       [ 3.00000e+00,  1.50000e+00,  1.49000e+03, ..., -1.22133e+02,
         1.49000e+03,  8.54000e+03],
       [ 4.00000e+00,  1.50000e+00,  1.35000e+03, ..., -1.22196e+02,
         1.93000e+03,  8.11300e+03],
       [ 3.00000e+00,  3.50000e+00,  1.45000e+03, ..., -1.22383e+02,
         1.39000e+03,  1.28200e+03]])
이거를 하는 이유는 결과적으로는 id price 해서 만든 것은 같지만 근거값이 달라진 것          
'''

y_axis2 = numpy.array(train2['price']) #그 전이랑 같음 

x_train2, x_test2, y_train2, y_test2 = train_test_split(rest_axises, y_axis2, test_size=0.2, shuffle=True, random_state = 1)
#x_train2, x_test2, y_train2, y_test2 에다가 값 넣기 

model2 = linear_model.LinearRegression() #linear_model 은 import 한 것 
model2.fit(x_train2, y_train2)

train_mae2 = mean_absolute_error(y_train2, model2.predict(x_train2))
test_mae2 = mean_absolute_error(y_test2, model2.predict(x_test2))

axises_test2 = numpy.array(test2[numeric_variables])
#axises_test2 = numpy.expand_dims(axises_test2,1)       1번과 다르게 두 번 할 필요가 없음

test2['submit_id2'] = test.apply(lambda axises_test2 : str(axises_test2.id) + str(axises_test2.date),axis=1) #x로  만들고

#print(rest_axises.shape)

y_test_predict2 = model2.predict(axises_test2)
#test로 하면 안되는 이유. rest_axises 등은 전부 train 데이터(양도 17291개로 4배 많음. 0.2 로 했잖아 )

print(y_test_predict2.shape)

q2 = pd.DataFrame({'id':test2['submit_id2'], 'price':y_test_predict2})
#array length 17291 does not match index length 4322

#train, test 값 copy 

q2.to_csv('submission2.csv',index=False) 
