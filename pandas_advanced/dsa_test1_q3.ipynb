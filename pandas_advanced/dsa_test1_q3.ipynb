#3版　問題  一番難しいと言われる
from sklearn.preprocessing import StandardScaler
#preprocessing 必要


numeric_variables = ['bedrooms', 'bathrooms', 'sqft_living',
       'sqft_lot', 'floors', 'view',
       'sqft_above', 'sqft_basement', 'yr_built', 'lat', 'long', 'sqft_living15', 'sqft_lot15'] #date 도 없음 
#이걸 모은 것은 어차피 corr 로 확인 할 수 있지만 혹시나 다른 variable 이 더 나은 것이 아닐까 확인하기 위해서         
category_variables = ['waterfront']
trash_bin = ['zipcode', 'condition', 'grade', 'yr_renovated'] #grade, condition
y_variables = ['price'] #타겟으로 잡아야함, price하고 id 는 아예 안넣음 

import numpy

train3 = train.copy()
test3 = test.copy()

x_numeric3 = numpy.array(train3[numeric_variables])
x_category3 = numpy.array(train3[category_variables])
x3 = numpy.hstack((x_numeric3, x_category3)) #hstack

x_numeric3 = numpy.array(train3[numeric_variables])
#print(x_numeric3)
#print(x_numeric3.shape) #(17291, 13)               이제 필없. x3 를 위함

x_category3 = numpy.array(train3[category_variables])
#print(x_category3) #0과 1로 이루어진 것이니
#print(x_category3.shape) #(17291, 1)               이제 필없. x3 를 위함

x3 = numpy.hstack((x_numeric3, x_category3)) #hstack
#print(x3) #0.000e+00 추가
#print(x3.shape) #(17291, 14)

y3 = numpy.array(train3.price)
y3 = numpy.expand_dims(numpy.array(train3.price), axis = 1)
# StandardScaler 사용하려면 dimension 2개로만들어야함
print(y3)
print(y3.shape)

##Use multi numerical variables and categorical variables (다중 숫자 변수와 범주형 변수를 사용)          위에까지 

x_train3, x_test3, y_train3, y_test3 = train_test_split(x3, y3, test_size = 0.2, shuffle=True, random_state=1)
#      X        X         Y        Y   말그대로 test,split나누기.           0.2가 test로 간다

'''    
model2 = linear_model.LinearRegression() #linear_model 은 import 한 것 
model2.fit(x_train2, y_train2)
'''   #fit을 쓰는 것은 같음

scaler_x3 =  StandardScaler() #linear_model.LinearRegression 도 그대로 쓴것.
scaler_x3.fit(x_train3[:,:-1]) #:는 전체이고 

scaler_y3 = StandardScaler()
scaler_y3.fit(y_train3)

x_train_numeric_scaled3 = scaler_x3.transform(x_train3[:,:-1]) #이미 scaler 만들 때 넣었지만 한 번 더 넣기
x_train_mod3 = numpy.hstack((x_train_numeric_scaled3, numpy.expand_dims(x_train3[:,-1],1))) #1이니까 category var = waterfront 만 넣겠다는 것

y_train_mod3 = scaler_y3.transform(y_train3)

x_test_numeric_scaled3 = scaler_x3.transform(x_test3[:,:-1])
x_test_mod3 = numpy.hstack(          (x_test_numeric_scaled3,   numpy.expand_dims(x_test3[:,-1],1))    )

reg_3 = linear_model.Lasso(alpha=0.01) #<> 그전에는 linear_model.LinearRegression()
reg_3.fit(x_train_mod3, y_train_mod3)

train_mae3 = mean_absolute_error(y_train3, scaler_y3.inverse_transform(numpy.expand_dims(reg_3.predict(x_train_mod3), 1)))
test_mae3 = mean_absolute_error(y_test3, scaler_y3.inverse_transform(numpy.expand_dims(reg_3.predict(x_test_mod3), 1)))

test3 = test.copy()
test3['id3'] = test3.apply(lambda x3: str(x3.id) + str(x3.date), axis=1)

x3_numeric = numpy.array(test3[numeric_variables])
x3_category = numpy.array(test3[category_variables]) # x_nuemric3, x_cateogry3 는 train 것이어서 ㄴㄴ해 
x3_test = numpy.hstack((x3_numeric, x3_category))

x3_test_numeric_scaled = scaler_x3.transform(x3_test[:,:-1])

x3_test_mod = numpy.hstack((x3_test_numeric_scaled, numpy.expand_dims(x3_test[:,-1],1)))

y3_test_predict = scaler_y3.inverse_transform(reg_3.predict(x3_test_mod).reshape(-1, 1))

y3_test_predict_sq = np.squeeze(y3_test_predict, axis=1)

q3_sub = pd.DataFrame({'id':test3['id3'], 'price':y3_test_predict_sq}) #바로 위의 x3_test_mod 가 아니었음!!
q3_sub.to_csv('submission3.csv', index=False) 
