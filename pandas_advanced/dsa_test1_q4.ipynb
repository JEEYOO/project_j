from sklearn.neural_network import MLPRegressor

model4 = MLPRegressor(hidden_layer_sizes=(10,5), max_iter=1000, random_state=1, early_stopping=True)

model4.fit(x_train_mod, y_train_mod.squeeze()) # It takes lots of time

train_mae4 = mean_absolute_error(y_train, scaler_y.inverse_transform(np.expand_dims(model4.predict(x_train_mod), 1))) 
val_mae4 = mean_absolute_error(y_val, scaler_y.inverse_transform(np.expand_dims(model4.predict(x_val_mod), 1))) 
print(train_mae4, val_mae4)

y_test_predict4= scaler_y.inverse_transform(model4.predict(x_test_mod).reshape(1,-1))
y_test_predict4_sq = np.squeeze(y_test_predict4, axis=0)



sample_submission4 = pd.read_csv('drive/MyDrive/Colab_Notebooks/dataset1/sample_submission.csv')

sample_submission4

sample_submission4['price'] = y_test_predict4_sq #Length of values (3459) does not match length of index (4322)

sample_submission4.to_csv('submission4.csv', index=False)
