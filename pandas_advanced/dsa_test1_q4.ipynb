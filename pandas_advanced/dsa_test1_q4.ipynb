from sklearn.neural_network import MLPRegressor

model4 = MLPRegressor(hidden_layer_sizes=(10,5), max_iter=1000, random_state=1, early_stopping=True)

model4.fit(x_train_mod, y_train_mod.squeeze()) # It takes lots of time

train_mae4 = mean_absolute_error(y_train, scaler_y.inverse_transform(np.expand_dims(model4.predict(x_train_mod), 1))) 
val_mae4 = mean_absolute_error(y_val, scaler_y.inverse_transform(np.expand_dims(model4.predict(x_val_mod), 1))) 
print(train_mae4, val_mae4)

y_test_predict4= scaler_y.inverse_transform(model4.predict(x_test_mod).reshape(1,-1))
y_test_predict4_sq = np.squeeze(y_test_predict4, axis=0)

q4_sub = pd.DataFrame({'id':test3['id3'], 'price':y_test_predict4_sq}) 
q4_sub.to_csv('submission4.csv', index=False)
