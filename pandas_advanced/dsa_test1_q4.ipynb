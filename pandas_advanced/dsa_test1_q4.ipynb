from sklearn.neural_network import MLPRegressor

model4 = MLPRegressor(hidden_layer_sizes=(10,5), max_iter=1000, random_state=1, early_stopping=True)

model4.fit(x_train_mod, y_train_mod.squeeze()) # It takes lots of time

train_mae4 = mean_absolute_error(y_train, scaler_y.inverse_transform(np.expand_dims(model4.predict(x_train_mod), 1))) 
val_mae4 = mean_absolute_error(y_val, scaler_y.inverse_transform(np.expand_dims(model4.predict(x_val_mod), 1))) 
