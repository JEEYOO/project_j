#3版　問題  一番難しいと言われる
from sklearn.preprocessing import StandardScaler
#preprocessing 必要


numeric_variables = ['bedrooms', 'bathrooms', 'sqft_living',
       'sqft_lot', 'floors', 'view',
       'sqft_above', 'sqft_basement', 'yr_built', 'lat', 'long', 'sqft_living15', 'sqft_lot15'] #date 도 없음 
#이걸 모은 것은 어차피 corr 로 확인 할 수 있지만 혹시나 다른 variable 이 더 나은 것이 아닐까 확인하기 위해서         
category_variables = ['waterfront']
trash_bin = ['zipcode', 'condition', 'grade', 'yr_renovated'] #grade, condition
y_variables = ['price'] #타겟으로 잡아야함, price하고 id 는 아예 안넣음 

import numpy

train3 = train.copy()
test3 = test.copy()

x_numeric3 = numpy.array(train3[numeric_variables])
x_category3 = numpy.array(train3[category_variables])
x3 = numpy.hstack((x_numeric3, x_category3)) #hstack
