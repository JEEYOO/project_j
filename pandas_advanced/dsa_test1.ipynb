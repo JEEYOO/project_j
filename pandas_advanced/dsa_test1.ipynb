
import pandas

train = pandas.read_csv('./sample_data/california_housing_train.csv')

test = pandas.read_csv('./sample_data/california_housing_test.csv')

test.head()

train_copy = train.copy()
train_copy.info()

train_copy.describe()

train_copy.columns

set(train_copy['longitude'])
